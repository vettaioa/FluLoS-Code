{
 "cells": [
  {
   "cell_type": "markdown",
   "metadata": {},
   "source": [
    "# Speech To Text Statistics\n",
    "## TOC:\n",
    "* [Speech To Text nBest Version Compare](#Speech-To-Text-nBest-Version-Compare)"
   ]
  },
  {
   "cell_type": "code",
   "execution_count": 1,
   "metadata": {},
   "outputs": [],
   "source": [
    "import pandas as pd\n",
    "from matplotlib import pyplot as plt\n",
    "import numpy as np\n",
    "\n",
    "import utils as utils\n",
    "import context_utils as ctutils\n",
    "import data_loader as dataloader\n",
    "\n",
    "import word_error_rate as werutils\n",
    "import text_cleanup as cleanup"
   ]
  },
  {
   "cell_type": "markdown",
   "metadata": {},
   "source": [
    "## Speech To Text nBest Version Compare\n"
   ]
  },
  {
   "cell_type": "code",
   "execution_count": 4,
   "metadata": {},
   "outputs": [
    {
     "name": "stdout",
     "output_type": "stream",
     "text": [
      "# stt nbest files loaded:\t 102\n",
      "# stt wers calculated:\t\t 102\n",
      "[ 8.55433172 12.68889751 13.32469423]\n"
     ]
    }
   ],
   "source": [
    "# todo\n",
    "# vergleich von n-best; wie stark unterscheiden sich die 3 varianten überhaupt?\n",
    "# (WER vergleich zu Orginaltranskription)\n",
    "\n",
    "# 3 mal das vorhandene WER diagramm nebeneinander als subplot\n",
    "# gibt auch einen output als tabelle davon (zurzeti in text file geoutputet)\n",
    "# optional: 3 balken mit gesamt WER\n",
    "\n",
    "stt_nbests = dataloader.load_stt_nbests()\n",
    "print('# stt nbest files loaded:\\t', len(stt_nbests))\n",
    "\n",
    "nbest_wers = [None] * len(stt_nbests)\n",
    "for i, current_nbest in enumerate(stt_nbests):\n",
    "    human_trascript = dataloader.load_human_transcription(current_nbest.name)\n",
    "    current_wers = [None] * len(current_nbest.transcriptions)\n",
    "    \n",
    "    for j, current_transcription in enumerate(current_nbest.transcriptions):\n",
    "        cleaned_human_transcript = cleanup.clean_up_text(human_trascript)\n",
    "        cleaned_current_transcript = cleanup.clean_up_text(current_transcription)\n",
    "        current_wers[j] = werutils.word_error_rate(cleaned_human_transcript, cleaned_current_transcript)\n",
    "    \n",
    "    nbest_wers[i] = current_wers\n",
    "\n",
    "print('# stt wers calculated:\\t\\t', len(nbest_wers))\n",
    "\n",
    "\n",
    "avg_wer = np.zeros(3, dtype = float)\n",
    "avg_items_counter = np.zeros(3, dtype = float)\n",
    "for i,wer in enumerate(nbest_wers):\n",
    "    for j in range(len(nbest_wers[i])):\n",
    "        avg_wer[j] += nbest_wers[i][j]\n",
    "        avg_items_counter[j] += 1\n",
    "\n",
    "for i in range(len(avg_wer)):\n",
    "    avg_wer[i] /= avg_items_counter[i]\n",
    "\n",
    "print(avg_wer)"
   ]
  },
  {
   "cell_type": "code",
   "execution_count": 5,
   "metadata": {},
   "outputs": [
    {
     "data": {
      "image/png": "[encoded data removed]",
      "text/plain": [
       "<Figure size 240x240 with 1 Axes>"
      ]
     },
     "metadata": {
      "needs_background": "light"
     },
     "output_type": "display_data"
    }
   ],
   "source": [
    "plt.figure(figsize=(3, 3), dpi=80)\n",
    "plt.subplot()\n",
    "\n",
    "wer_names = ['Beste', 'Zweitbeste', 'Drittbeste']\n",
    "plt.bar(wer_names, avg_wer, width=0.5)\n",
    "plt.ylabel('WER (%)')\n",
    "plt.xlabel('Transkriptions-Gruppe')\n",
    "plt.title('Durchschnittliche WER für alternative Transkriptionen')\n",
    "plt.show()"
   ]
  },
  {
   "cell_type": "code",
   "execution_count": 6,
   "metadata": {},
   "outputs": [
    {
     "name": "stdout",
     "output_type": "stream",
     "text": [
      "# stt wers calculated:\t\t 102\n",
      "1 vs 2:\t\t 7.870054233859899\n",
      "1 vs 3:\t\t 9.339514293927481\n",
      "2 vs 3:\t\t 10.46568671993803\n"
     ]
    }
   ],
   "source": [
    "nbest_wers = [None] * len(stt_nbests)\n",
    "for i, current_nbest in enumerate(stt_nbests):\n",
    "    cleaned_nbest1 = cleanup.clean_up_text(current_nbest.transcriptions[0])\n",
    "    cleaned_nbest2 = cleanup.clean_up_text(current_nbest.transcriptions[1])\n",
    "    if len(current_nbest.transcriptions) > 2:\n",
    "        cleaned_nbest3 = cleanup.clean_up_text(current_nbest.transcriptions[2])\n",
    "\n",
    "    current_wers = [None] * 3\n",
    "    current_wers[0] = werutils.word_error_rate(cleaned_nbest1, cleaned_nbest2)\n",
    "    current_wers[1] = werutils.word_error_rate(cleaned_nbest1, cleaned_nbest3)\n",
    "    if len(current_nbest.transcriptions) > 2:\n",
    "        current_wers[2] = werutils.word_error_rate(cleaned_nbest2, cleaned_nbest3)\n",
    "\n",
    "    nbest_wers[i] = current_wers\n",
    "\n",
    "print('# stt wers calculated:\\t\\t', len(nbest_wers))\n",
    "\n",
    "avg_wer = np.zeros(3, dtype = float)\n",
    "avg_items_counter = np.zeros(3, dtype = float)\n",
    "for i,wer in enumerate(nbest_wers):\n",
    "        for j in range(len(nbest_wers[i])):\n",
    "            if nbest_wers[i][j] is not None:\n",
    "                avg_wer[j] += nbest_wers[i][j]\n",
    "                avg_items_counter[j] += 1\n",
    "\n",
    "for i in range(len(avg_wer)):\n",
    "    avg_wer[i] /= avg_items_counter[i]\n",
    "\n",
    "\n",
    "print('1 vs 2:\\t\\t', avg_wer[0])\n",
    "print('1 vs 3:\\t\\t', avg_wer[1])\n",
    "print('2 vs 3:\\t\\t', avg_wer[2])"
   ]
  },
  {
   "cell_type": "code",
   "execution_count": 7,
   "metadata": {},
   "outputs": [
    {
     "data": {
      "image/png": "[encoded data removed]",
      "text/plain": [
       "<Figure size 240x240 with 1 Axes>"
      ]
     },
     "metadata": {
      "needs_background": "light"
     },
     "output_type": "display_data"
    }
   ],
   "source": [
    "plt.figure(figsize=(3, 3), dpi=80)\n",
    "plt.subplot()\n",
    "\n",
    "wer_names = ['1 vs 2', '1 vs 3', '2 vs 3']\n",
    "plt.bar(wer_names, avg_wer)\n",
    "plt.ylabel('WER')\n",
    "plt.title('Vergleich der nBest')\n",
    "plt.show()"
   ]
  }
 ],
 "metadata": {
  "kernelspec": {
   "display_name": "Python 3",
   "language": "python",
   "name": "python3"
  },
  "language_info": {
   "codemirror_mode": {
    "name": "ipython",
    "version": 3
   },
   "file_extension": ".py",
   "mimetype": "text/x-python",
   "name": "python",
   "nbconvert_exporter": "python",
   "pygments_lexer": "ipython3",
   "version": "3.7.3"
  },
  "metadata": {
   "interpreter": {
    "hash": "0dbeb75f7501fbf802dec1dfd1911fed1cfc50e696d88b3a1508ff3d1af2b37d"
   }
  }
 },
 "nbformat": 4,
 "nbformat_minor": 2
}
