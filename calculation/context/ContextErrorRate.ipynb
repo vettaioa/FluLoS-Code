{
 "cells": [
  {
   "cell_type": "markdown",
   "metadata": {},
   "source": [
    "# Context Extraction Error Rate"
   ]
  },
  {
   "cell_type": "code",
   "execution_count": 1,
   "metadata": {},
   "outputs": [],
   "source": [
    "# autoreload for development; remove later :)\n",
    "%load_ext autoreload\n",
    "%autoreload 2"
   ]
  },
  {
   "cell_type": "code",
   "execution_count": 2,
   "metadata": {},
   "outputs": [],
   "source": [
    "import pandas as pd\n",
    "from matplotlib import pyplot as plt\n",
    "\n",
    "import utils as utils\n",
    "import data_loader as data"
   ]
  },
  {
   "cell_type": "code",
   "execution_count": 3,
   "metadata": {},
   "outputs": [],
   "source": [
    "# load json files from data folder\n",
    "data = data.load_data()"
   ]
  },
  {
   "cell_type": "markdown",
   "metadata": {},
   "source": [
    "## Labelled Data\n",
    "Statistics about our data labels used for the following calculations"
   ]
  },
  {
   "cell_type": "code",
   "execution_count": 4,
   "metadata": {},
   "outputs": [
    {
     "name": "stdout",
     "output_type": "stream",
     "text": [
      "# labelled intents:\t\t 4 \t {'squawk', 'flightlevel', 'turn', 'contact'}\n",
      "# labelled messages:\t\t 98 \t {'squawk': 24, 'flightlevel': 24, 'turn': 26, 'contact': 26}\n",
      "# single-intent messages:\t 96\n",
      "# two-intent messages:\t\t 2\n",
      "\n",
      "# labelled airlines:\t\t 39 \tin 95 messages\n",
      "# labelled callsigns:\t\t 75 \tin 95 messages\n"
     ]
    }
   ],
   "source": [
    "intents = utils.flatten([l['intent'] for l in data.labels])\n",
    "intentsSet = set(intents)\n",
    "\n",
    "intentCounts = {}\n",
    "for intent in intentsSet:\n",
    "    intentCounts[intent] = intents.count(intent)\n",
    "\n",
    "airlines = [l['airline'] for l in data.labels if l['airline']]\n",
    "airlinesSet = set(airlines)\n",
    "callsigns = [l['airline'] +' '+ l['flightnr'] for l in data.labels if l['airline'] and l['flightnr']]\n",
    "callsignsSet = set(callsigns)\n",
    "\n",
    "#airlineCounts = {}\n",
    "#for airline in airlinesSet:\n",
    "#    airlineCounts[airline] = airlines.count(airline)\n",
    "#callsignCounts = {}\n",
    "#for callsign in callsignsSet:\n",
    "#    callsignCounts[callsign] = callsigns.count(callsign)\n",
    "\n",
    "print('# labelled intents:\\t\\t', len(intentsSet), '\\t', intentsSet)\n",
    "print('# labelled messages:\\t\\t', len(data.labels), '\\t', intentCounts)\n",
    "print('# single-intent messages:\\t', len([l['intent'] for l in data.labels if len(l['intent']) == 1]))\n",
    "print('# two-intent messages:\\t\\t', len([l['intent'] for l in data.labels if len(l['intent']) == 2]))\n",
    "print()\n",
    "print('# labelled airlines:\\t\\t', len(airlinesSet), '\\tin', len(airlines), 'messages')\n",
    "print('# labelled callsigns:\\t\\t', len(callsignsSet), '\\tin', len(callsigns), 'messages')"
   ]
  },
  {
   "cell_type": "code",
   "execution_count": null,
   "metadata": {},
   "outputs": [],
   "source": []
  }
 ],
 "metadata": {
  "kernelspec": {
   "display_name": "Python 3",
   "language": "python",
   "name": "python3"
  },
  "language_info": {
   "codemirror_mode": {
    "name": "ipython",
    "version": 3
   },
   "file_extension": ".py",
   "mimetype": "text/x-python",
   "name": "python",
   "nbconvert_exporter": "python",
   "pygments_lexer": "ipython3",
   "version": "3.7.3"
  }
 },
 "nbformat": 4,
 "nbformat_minor": 2
}
